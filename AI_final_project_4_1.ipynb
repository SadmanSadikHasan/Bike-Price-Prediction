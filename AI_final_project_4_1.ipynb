{
  "nbformat": 4,
  "nbformat_minor": 0,
  "metadata": {
    "colab": {
      "name": "AI final project 4.1.ipynb",
      "provenance": [],
      "collapsed_sections": []
    },
    "kernelspec": {
      "name": "python3",
      "display_name": "Python 3"
    },
    "language_info": {
      "name": "python"
    }
  },
  "cells": [
    {
      "cell_type": "code",
      "source": [
        "import pandas as pd\n",
        "import numpy as np\n",
        "import matplotlib.pyplot as plt\n",
        "import seaborn as sns\n",
        "from sklearn.model_selection import train_test_split\n",
        "from sklearn.linear_model import LinearRegression\n",
        "from sklearn.linear_model import Lasso\n",
        "from xgboost import XGBRegressor\n",
        "from sklearn import metrics\n",
        "from sklearn.svm import SVR\n",
        "from sklearn.linear_model import SGDRegressor\n",
        "from sklearn import linear_model"
      ],
      "metadata": {
        "id": "k0hFtsBoqZ5j"
      },
      "execution_count": 1,
      "outputs": []
    },
    {
      "cell_type": "code",
      "source": [
        "bike_dataset = pd.read_csv('Bike Price Dataset.csv')"
      ],
      "metadata": {
        "id": "M79E6rWVse9N"
      },
      "execution_count": 2,
      "outputs": []
    },
    {
      "cell_type": "code",
      "source": [
        "bike_dataset.head() "
      ],
      "metadata": {
        "colab": {
          "base_uri": "https://localhost:8080/",
          "height": 206
        },
        "id": "EpDvxh8EtoQ2",
        "outputId": "90759d3f-15a4-4a2e-9e82-4560b157c8a4"
      },
      "execution_count": 3,
      "outputs": [
        {
          "output_type": "execute_result",
          "data": {
            "text/html": [
              "\n",
              "  <div id=\"df-0b2740c2-b3d9-42c7-bd9d-e7de3acdeb78\">\n",
              "    <div class=\"colab-df-container\">\n",
              "      <div>\n",
              "<style scoped>\n",
              "    .dataframe tbody tr th:only-of-type {\n",
              "        vertical-align: middle;\n",
              "    }\n",
              "\n",
              "    .dataframe tbody tr th {\n",
              "        vertical-align: top;\n",
              "    }\n",
              "\n",
              "    .dataframe thead th {\n",
              "        text-align: right;\n",
              "    }\n",
              "</style>\n",
              "<table border=\"1\" class=\"dataframe\">\n",
              "  <thead>\n",
              "    <tr style=\"text-align: right;\">\n",
              "      <th></th>\n",
              "      <th>Brand_Name</th>\n",
              "      <th>Model_Name</th>\n",
              "      <th>Brand_Origin</th>\n",
              "      <th>CC</th>\n",
              "      <th>Milage</th>\n",
              "      <th>Top_Speed</th>\n",
              "      <th>Category</th>\n",
              "      <th>Price</th>\n",
              "    </tr>\n",
              "  </thead>\n",
              "  <tbody>\n",
              "    <tr>\n",
              "      <th>0</th>\n",
              "      <td>BAJAJ</td>\n",
              "      <td>Glamour</td>\n",
              "      <td>India</td>\n",
              "      <td>124.7</td>\n",
              "      <td>81.1</td>\n",
              "      <td>90.0</td>\n",
              "      <td>Adventure</td>\n",
              "      <td>114490</td>\n",
              "    </tr>\n",
              "    <tr>\n",
              "      <th>1</th>\n",
              "      <td>BAJAJ</td>\n",
              "      <td>HF Deluxe Self</td>\n",
              "      <td>India</td>\n",
              "      <td>97.2</td>\n",
              "      <td>82.9</td>\n",
              "      <td>85.0</td>\n",
              "      <td>Adventure</td>\n",
              "      <td>94490</td>\n",
              "    </tr>\n",
              "    <tr>\n",
              "      <th>2</th>\n",
              "      <td>BAJAJ</td>\n",
              "      <td>Passion Xpro Disc</td>\n",
              "      <td>India</td>\n",
              "      <td>109.1</td>\n",
              "      <td>85.6</td>\n",
              "      <td>87.0</td>\n",
              "      <td>Adventure</td>\n",
              "      <td>106490</td>\n",
              "    </tr>\n",
              "    <tr>\n",
              "      <th>3</th>\n",
              "      <td>BAJAJ</td>\n",
              "      <td>Xtreme Sports Single Disc</td>\n",
              "      <td>India</td>\n",
              "      <td>149.2</td>\n",
              "      <td>65.1</td>\n",
              "      <td>107.0</td>\n",
              "      <td>Adventure</td>\n",
              "      <td>174900</td>\n",
              "    </tr>\n",
              "    <tr>\n",
              "      <th>4</th>\n",
              "      <td>BAJAJ</td>\n",
              "      <td>Ignitor</td>\n",
              "      <td>India</td>\n",
              "      <td>124.7</td>\n",
              "      <td>55.0</td>\n",
              "      <td>102.0</td>\n",
              "      <td>Air-Cooled</td>\n",
              "      <td>121490</td>\n",
              "    </tr>\n",
              "  </tbody>\n",
              "</table>\n",
              "</div>\n",
              "      <button class=\"colab-df-convert\" onclick=\"convertToInteractive('df-0b2740c2-b3d9-42c7-bd9d-e7de3acdeb78')\"\n",
              "              title=\"Convert this dataframe to an interactive table.\"\n",
              "              style=\"display:none;\">\n",
              "        \n",
              "  <svg xmlns=\"http://www.w3.org/2000/svg\" height=\"24px\"viewBox=\"0 0 24 24\"\n",
              "       width=\"24px\">\n",
              "    <path d=\"M0 0h24v24H0V0z\" fill=\"none\"/>\n",
              "    <path d=\"M18.56 5.44l.94 2.06.94-2.06 2.06-.94-2.06-.94-.94-2.06-.94 2.06-2.06.94zm-11 1L8.5 8.5l.94-2.06 2.06-.94-2.06-.94L8.5 2.5l-.94 2.06-2.06.94zm10 10l.94 2.06.94-2.06 2.06-.94-2.06-.94-.94-2.06-.94 2.06-2.06.94z\"/><path d=\"M17.41 7.96l-1.37-1.37c-.4-.4-.92-.59-1.43-.59-.52 0-1.04.2-1.43.59L10.3 9.45l-7.72 7.72c-.78.78-.78 2.05 0 2.83L4 21.41c.39.39.9.59 1.41.59.51 0 1.02-.2 1.41-.59l7.78-7.78 2.81-2.81c.8-.78.8-2.07 0-2.86zM5.41 20L4 18.59l7.72-7.72 1.47 1.35L5.41 20z\"/>\n",
              "  </svg>\n",
              "      </button>\n",
              "      \n",
              "  <style>\n",
              "    .colab-df-container {\n",
              "      display:flex;\n",
              "      flex-wrap:wrap;\n",
              "      gap: 12px;\n",
              "    }\n",
              "\n",
              "    .colab-df-convert {\n",
              "      background-color: #E8F0FE;\n",
              "      border: none;\n",
              "      border-radius: 50%;\n",
              "      cursor: pointer;\n",
              "      display: none;\n",
              "      fill: #1967D2;\n",
              "      height: 32px;\n",
              "      padding: 0 0 0 0;\n",
              "      width: 32px;\n",
              "    }\n",
              "\n",
              "    .colab-df-convert:hover {\n",
              "      background-color: #E2EBFA;\n",
              "      box-shadow: 0px 1px 2px rgba(60, 64, 67, 0.3), 0px 1px 3px 1px rgba(60, 64, 67, 0.15);\n",
              "      fill: #174EA6;\n",
              "    }\n",
              "\n",
              "    [theme=dark] .colab-df-convert {\n",
              "      background-color: #3B4455;\n",
              "      fill: #D2E3FC;\n",
              "    }\n",
              "\n",
              "    [theme=dark] .colab-df-convert:hover {\n",
              "      background-color: #434B5C;\n",
              "      box-shadow: 0px 1px 3px 1px rgba(0, 0, 0, 0.15);\n",
              "      filter: drop-shadow(0px 1px 2px rgba(0, 0, 0, 0.3));\n",
              "      fill: #FFFFFF;\n",
              "    }\n",
              "  </style>\n",
              "\n",
              "      <script>\n",
              "        const buttonEl =\n",
              "          document.querySelector('#df-0b2740c2-b3d9-42c7-bd9d-e7de3acdeb78 button.colab-df-convert');\n",
              "        buttonEl.style.display =\n",
              "          google.colab.kernel.accessAllowed ? 'block' : 'none';\n",
              "\n",
              "        async function convertToInteractive(key) {\n",
              "          const element = document.querySelector('#df-0b2740c2-b3d9-42c7-bd9d-e7de3acdeb78');\n",
              "          const dataTable =\n",
              "            await google.colab.kernel.invokeFunction('convertToInteractive',\n",
              "                                                     [key], {});\n",
              "          if (!dataTable) return;\n",
              "\n",
              "          const docLinkHtml = 'Like what you see? Visit the ' +\n",
              "            '<a target=\"_blank\" href=https://colab.research.google.com/notebooks/data_table.ipynb>data table notebook</a>'\n",
              "            + ' to learn more about interactive tables.';\n",
              "          element.innerHTML = '';\n",
              "          dataTable['output_type'] = 'display_data';\n",
              "          await google.colab.output.renderOutput(dataTable, element);\n",
              "          const docLink = document.createElement('div');\n",
              "          docLink.innerHTML = docLinkHtml;\n",
              "          element.appendChild(docLink);\n",
              "        }\n",
              "      </script>\n",
              "    </div>\n",
              "  </div>\n",
              "  "
            ],
            "text/plain": [
              "  Brand_Name                 Model_Name Brand_Origin     CC  Milage  \\\n",
              "0      BAJAJ                    Glamour        India  124.7    81.1   \n",
              "1      BAJAJ             HF Deluxe Self        India   97.2    82.9   \n",
              "2      BAJAJ          Passion Xpro Disc        India  109.1    85.6   \n",
              "3      BAJAJ  Xtreme Sports Single Disc        India  149.2    65.1   \n",
              "4      BAJAJ                    Ignitor        India  124.7    55.0   \n",
              "\n",
              "   Top_Speed    Category   Price  \n",
              "0       90.0   Adventure  114490  \n",
              "1       85.0   Adventure   94490  \n",
              "2       87.0   Adventure  106490  \n",
              "3      107.0   Adventure  174900  \n",
              "4      102.0  Air-Cooled  121490  "
            ]
          },
          "metadata": {},
          "execution_count": 3
        }
      ]
    },
    {
      "cell_type": "code",
      "source": [
        "print(bike_dataset.Brand_Name.value_counts())\n",
        "print(bike_dataset.Brand_Origin.value_counts())\n",
        "print(bike_dataset.Category.value_counts())"
      ],
      "metadata": {
        "colab": {
          "base_uri": "https://localhost:8080/"
        },
        "id": "oU5Mpy4WttZU",
        "outputId": "b2e42452-359d-4814-bf2c-70c124445fb4"
      },
      "execution_count": 4,
      "outputs": [
        {
          "output_type": "stream",
          "name": "stdout",
          "text": [
            "RUNNER      36\n",
            "HONDA       34\n",
            "BAJAJ       32\n",
            "HERO        30\n",
            "H Power     30\n",
            "YAMAHA      26\n",
            "TVS         20\n",
            "Mahindra    17\n",
            "SUZUKI      16\n",
            "Keeway      13\n",
            "BMW         12\n",
            "Walton      12\n",
            "LIFAN       11\n",
            "APRILIA     11\n",
            "TVS\\n        1\n",
            "Name: Brand_Name, dtype: int64\n",
            "India         119\n",
            "Japan          67\n",
            "Bangladesh     58\n",
            "China          34\n",
            "Germany        12\n",
            "Italy‎         11\n",
            "Name: Brand_Origin, dtype: int64\n",
            "Standard          72\n",
            "Roadstar          64\n",
            "Naked             63\n",
            "Sport             42\n",
            "Scooter           23\n",
            "Street Bike       12\n",
            "Air-Cooled         7\n",
            "Cruiser            7\n",
            "Adventure          4\n",
            "Heritage           3\n",
            "Off Road           2\n",
            "Commuter           1\n",
            "Urban Mobility     1\n",
            "Name: Category, dtype: int64\n"
          ]
        }
      ]
    },
    {
      "cell_type": "code",
      "source": [
        "bike_dataset.replace({'Brand_Name':{'HONDA':0,'BAJAJ':1,'H Power':2,'HERO':3,'YAMAHA':4,'RUNNER':5,'TVS':6,'TVS\\n':6,'SUZUKI':7,'Mahindra':8,\n",
        "                                    'Keeway':9,'Walton':10,'BMW':11,'APRILIA':12,'LIFAN':13}},inplace=True)\n",
        "bike_dataset.replace({'Brand_Origin':{'India':0,'Japan':1,'Bangladesh':2,'China':3,'Germany':4,'Italy‎':5}},inplace=True)\n",
        "bike_dataset.replace({'Category':{'Standard':0,'Sport':1,'Scooter':2,'Street Bike':3,'Air-Cooled':4,'Cruiser':5,\n",
        "                                  'Adventure':6,'Heritage':7,'Off Road':8,'Commuter':9,'Urban Mobility':10,'Naked':11,'Roadstar':12}},inplace=True)"
      ],
      "metadata": {
        "id": "bLd4blp5XVpG"
      },
      "execution_count": 5,
      "outputs": []
    },
    {
      "cell_type": "code",
      "source": [
        "bike_dataset"
      ],
      "metadata": {
        "id": "Tqcmv4k6bKvX",
        "colab": {
          "base_uri": "https://localhost:8080/",
          "height": 424
        },
        "outputId": "ed6971ba-8d1d-418c-d865-166cf64b6566"
      },
      "execution_count": 6,
      "outputs": [
        {
          "output_type": "execute_result",
          "data": {
            "text/html": [
              "\n",
              "  <div id=\"df-5bc22ff5-ff57-442a-a5f5-06f27b8378ea\">\n",
              "    <div class=\"colab-df-container\">\n",
              "      <div>\n",
              "<style scoped>\n",
              "    .dataframe tbody tr th:only-of-type {\n",
              "        vertical-align: middle;\n",
              "    }\n",
              "\n",
              "    .dataframe tbody tr th {\n",
              "        vertical-align: top;\n",
              "    }\n",
              "\n",
              "    .dataframe thead th {\n",
              "        text-align: right;\n",
              "    }\n",
              "</style>\n",
              "<table border=\"1\" class=\"dataframe\">\n",
              "  <thead>\n",
              "    <tr style=\"text-align: right;\">\n",
              "      <th></th>\n",
              "      <th>Brand_Name</th>\n",
              "      <th>Model_Name</th>\n",
              "      <th>Brand_Origin</th>\n",
              "      <th>CC</th>\n",
              "      <th>Milage</th>\n",
              "      <th>Top_Speed</th>\n",
              "      <th>Category</th>\n",
              "      <th>Price</th>\n",
              "    </tr>\n",
              "  </thead>\n",
              "  <tbody>\n",
              "    <tr>\n",
              "      <th>0</th>\n",
              "      <td>1</td>\n",
              "      <td>Glamour</td>\n",
              "      <td>0</td>\n",
              "      <td>124.7</td>\n",
              "      <td>81.1</td>\n",
              "      <td>90.0</td>\n",
              "      <td>6</td>\n",
              "      <td>114490</td>\n",
              "    </tr>\n",
              "    <tr>\n",
              "      <th>1</th>\n",
              "      <td>1</td>\n",
              "      <td>HF Deluxe Self</td>\n",
              "      <td>0</td>\n",
              "      <td>97.2</td>\n",
              "      <td>82.9</td>\n",
              "      <td>85.0</td>\n",
              "      <td>6</td>\n",
              "      <td>94490</td>\n",
              "    </tr>\n",
              "    <tr>\n",
              "      <th>2</th>\n",
              "      <td>1</td>\n",
              "      <td>Passion Xpro Disc</td>\n",
              "      <td>0</td>\n",
              "      <td>109.1</td>\n",
              "      <td>85.6</td>\n",
              "      <td>87.0</td>\n",
              "      <td>6</td>\n",
              "      <td>106490</td>\n",
              "    </tr>\n",
              "    <tr>\n",
              "      <th>3</th>\n",
              "      <td>1</td>\n",
              "      <td>Xtreme Sports Single Disc</td>\n",
              "      <td>0</td>\n",
              "      <td>149.2</td>\n",
              "      <td>65.1</td>\n",
              "      <td>107.0</td>\n",
              "      <td>6</td>\n",
              "      <td>174900</td>\n",
              "    </tr>\n",
              "    <tr>\n",
              "      <th>4</th>\n",
              "      <td>1</td>\n",
              "      <td>Ignitor</td>\n",
              "      <td>0</td>\n",
              "      <td>124.7</td>\n",
              "      <td>55.0</td>\n",
              "      <td>102.0</td>\n",
              "      <td>4</td>\n",
              "      <td>121490</td>\n",
              "    </tr>\n",
              "    <tr>\n",
              "      <th>...</th>\n",
              "      <td>...</td>\n",
              "      <td>...</td>\n",
              "      <td>...</td>\n",
              "      <td>...</td>\n",
              "      <td>...</td>\n",
              "      <td>...</td>\n",
              "      <td>...</td>\n",
              "      <td>...</td>\n",
              "    </tr>\n",
              "    <tr>\n",
              "      <th>296</th>\n",
              "      <td>10</td>\n",
              "      <td>Fusion 110</td>\n",
              "      <td>2</td>\n",
              "      <td>107.0</td>\n",
              "      <td>45.0</td>\n",
              "      <td>90.0</td>\n",
              "      <td>3</td>\n",
              "      <td>100000</td>\n",
              "    </tr>\n",
              "    <tr>\n",
              "      <th>297</th>\n",
              "      <td>10</td>\n",
              "      <td>Cruize</td>\n",
              "      <td>2</td>\n",
              "      <td>97.0</td>\n",
              "      <td>45.0</td>\n",
              "      <td>80.0</td>\n",
              "      <td>3</td>\n",
              "      <td>81000</td>\n",
              "    </tr>\n",
              "    <tr>\n",
              "      <th>298</th>\n",
              "      <td>10</td>\n",
              "      <td>Stylex Plus</td>\n",
              "      <td>2</td>\n",
              "      <td>97.0</td>\n",
              "      <td>70.0</td>\n",
              "      <td>80.0</td>\n",
              "      <td>3</td>\n",
              "      <td>85000</td>\n",
              "    </tr>\n",
              "    <tr>\n",
              "      <th>299</th>\n",
              "      <td>10</td>\n",
              "      <td>Stylex</td>\n",
              "      <td>2</td>\n",
              "      <td>98.0</td>\n",
              "      <td>45.0</td>\n",
              "      <td>80.0</td>\n",
              "      <td>3</td>\n",
              "      <td>65550</td>\n",
              "    </tr>\n",
              "    <tr>\n",
              "      <th>300</th>\n",
              "      <td>10</td>\n",
              "      <td>Fusion 125 EX</td>\n",
              "      <td>2</td>\n",
              "      <td>125.0</td>\n",
              "      <td>45.0</td>\n",
              "      <td>100.0</td>\n",
              "      <td>10</td>\n",
              "      <td>95500</td>\n",
              "    </tr>\n",
              "  </tbody>\n",
              "</table>\n",
              "<p>301 rows × 8 columns</p>\n",
              "</div>\n",
              "      <button class=\"colab-df-convert\" onclick=\"convertToInteractive('df-5bc22ff5-ff57-442a-a5f5-06f27b8378ea')\"\n",
              "              title=\"Convert this dataframe to an interactive table.\"\n",
              "              style=\"display:none;\">\n",
              "        \n",
              "  <svg xmlns=\"http://www.w3.org/2000/svg\" height=\"24px\"viewBox=\"0 0 24 24\"\n",
              "       width=\"24px\">\n",
              "    <path d=\"M0 0h24v24H0V0z\" fill=\"none\"/>\n",
              "    <path d=\"M18.56 5.44l.94 2.06.94-2.06 2.06-.94-2.06-.94-.94-2.06-.94 2.06-2.06.94zm-11 1L8.5 8.5l.94-2.06 2.06-.94-2.06-.94L8.5 2.5l-.94 2.06-2.06.94zm10 10l.94 2.06.94-2.06 2.06-.94-2.06-.94-.94-2.06-.94 2.06-2.06.94z\"/><path d=\"M17.41 7.96l-1.37-1.37c-.4-.4-.92-.59-1.43-.59-.52 0-1.04.2-1.43.59L10.3 9.45l-7.72 7.72c-.78.78-.78 2.05 0 2.83L4 21.41c.39.39.9.59 1.41.59.51 0 1.02-.2 1.41-.59l7.78-7.78 2.81-2.81c.8-.78.8-2.07 0-2.86zM5.41 20L4 18.59l7.72-7.72 1.47 1.35L5.41 20z\"/>\n",
              "  </svg>\n",
              "      </button>\n",
              "      \n",
              "  <style>\n",
              "    .colab-df-container {\n",
              "      display:flex;\n",
              "      flex-wrap:wrap;\n",
              "      gap: 12px;\n",
              "    }\n",
              "\n",
              "    .colab-df-convert {\n",
              "      background-color: #E8F0FE;\n",
              "      border: none;\n",
              "      border-radius: 50%;\n",
              "      cursor: pointer;\n",
              "      display: none;\n",
              "      fill: #1967D2;\n",
              "      height: 32px;\n",
              "      padding: 0 0 0 0;\n",
              "      width: 32px;\n",
              "    }\n",
              "\n",
              "    .colab-df-convert:hover {\n",
              "      background-color: #E2EBFA;\n",
              "      box-shadow: 0px 1px 2px rgba(60, 64, 67, 0.3), 0px 1px 3px 1px rgba(60, 64, 67, 0.15);\n",
              "      fill: #174EA6;\n",
              "    }\n",
              "\n",
              "    [theme=dark] .colab-df-convert {\n",
              "      background-color: #3B4455;\n",
              "      fill: #D2E3FC;\n",
              "    }\n",
              "\n",
              "    [theme=dark] .colab-df-convert:hover {\n",
              "      background-color: #434B5C;\n",
              "      box-shadow: 0px 1px 3px 1px rgba(0, 0, 0, 0.15);\n",
              "      filter: drop-shadow(0px 1px 2px rgba(0, 0, 0, 0.3));\n",
              "      fill: #FFFFFF;\n",
              "    }\n",
              "  </style>\n",
              "\n",
              "      <script>\n",
              "        const buttonEl =\n",
              "          document.querySelector('#df-5bc22ff5-ff57-442a-a5f5-06f27b8378ea button.colab-df-convert');\n",
              "        buttonEl.style.display =\n",
              "          google.colab.kernel.accessAllowed ? 'block' : 'none';\n",
              "\n",
              "        async function convertToInteractive(key) {\n",
              "          const element = document.querySelector('#df-5bc22ff5-ff57-442a-a5f5-06f27b8378ea');\n",
              "          const dataTable =\n",
              "            await google.colab.kernel.invokeFunction('convertToInteractive',\n",
              "                                                     [key], {});\n",
              "          if (!dataTable) return;\n",
              "\n",
              "          const docLinkHtml = 'Like what you see? Visit the ' +\n",
              "            '<a target=\"_blank\" href=https://colab.research.google.com/notebooks/data_table.ipynb>data table notebook</a>'\n",
              "            + ' to learn more about interactive tables.';\n",
              "          element.innerHTML = '';\n",
              "          dataTable['output_type'] = 'display_data';\n",
              "          await google.colab.output.renderOutput(dataTable, element);\n",
              "          const docLink = document.createElement('div');\n",
              "          docLink.innerHTML = docLinkHtml;\n",
              "          element.appendChild(docLink);\n",
              "        }\n",
              "      </script>\n",
              "    </div>\n",
              "  </div>\n",
              "  "
            ],
            "text/plain": [
              "     Brand_Name                 Model_Name  Brand_Origin     CC  Milage  \\\n",
              "0             1                    Glamour             0  124.7    81.1   \n",
              "1             1             HF Deluxe Self             0   97.2    82.9   \n",
              "2             1          Passion Xpro Disc             0  109.1    85.6   \n",
              "3             1  Xtreme Sports Single Disc             0  149.2    65.1   \n",
              "4             1                    Ignitor             0  124.7    55.0   \n",
              "..          ...                        ...           ...    ...     ...   \n",
              "296          10                 Fusion 110             2  107.0    45.0   \n",
              "297          10                     Cruize             2   97.0    45.0   \n",
              "298          10                Stylex Plus             2   97.0    70.0   \n",
              "299          10                     Stylex             2   98.0    45.0   \n",
              "300          10              Fusion 125 EX             2  125.0    45.0   \n",
              "\n",
              "     Top_Speed  Category   Price  \n",
              "0         90.0         6  114490  \n",
              "1         85.0         6   94490  \n",
              "2         87.0         6  106490  \n",
              "3        107.0         6  174900  \n",
              "4        102.0         4  121490  \n",
              "..         ...       ...     ...  \n",
              "296       90.0         3  100000  \n",
              "297       80.0         3   81000  \n",
              "298       80.0         3   85000  \n",
              "299       80.0         3   65550  \n",
              "300      100.0        10   95500  \n",
              "\n",
              "[301 rows x 8 columns]"
            ]
          },
          "metadata": {},
          "execution_count": 6
        }
      ]
    },
    {
      "cell_type": "code",
      "source": [
        "X = bike_dataset.drop(['Model_Name','Price'],axis=1)\n",
        "Y = bike_dataset['Price']"
      ],
      "metadata": {
        "id": "Z3Uu_fdsbggc"
      },
      "execution_count": 7,
      "outputs": []
    },
    {
      "cell_type": "code",
      "source": [
        "print(X)"
      ],
      "metadata": {
        "id": "bIKKASDxbtPQ",
        "colab": {
          "base_uri": "https://localhost:8080/"
        },
        "outputId": "5e7e23dd-6353-441d-b739-b01a0326f525"
      },
      "execution_count": 8,
      "outputs": [
        {
          "output_type": "stream",
          "name": "stdout",
          "text": [
            "     Brand_Name  Brand_Origin     CC  Milage  Top_Speed  Category\n",
            "0             1             0  124.7    81.1       90.0         6\n",
            "1             1             0   97.2    82.9       85.0         6\n",
            "2             1             0  109.1    85.6       87.0         6\n",
            "3             1             0  149.2    65.1      107.0         6\n",
            "4             1             0  124.7    55.0      102.0         4\n",
            "..          ...           ...    ...     ...        ...       ...\n",
            "296          10             2  107.0    45.0       90.0         3\n",
            "297          10             2   97.0    45.0       80.0         3\n",
            "298          10             2   97.0    70.0       80.0         3\n",
            "299          10             2   98.0    45.0       80.0         3\n",
            "300          10             2  125.0    45.0      100.0        10\n",
            "\n",
            "[301 rows x 6 columns]\n"
          ]
        }
      ]
    },
    {
      "cell_type": "code",
      "source": [
        "print(Y)"
      ],
      "metadata": {
        "id": "fiF7qwdSb-9C",
        "colab": {
          "base_uri": "https://localhost:8080/"
        },
        "outputId": "28ca1be3-efc6-413b-cec8-410cb6bb87fb"
      },
      "execution_count": 9,
      "outputs": [
        {
          "output_type": "stream",
          "name": "stdout",
          "text": [
            "0      114490\n",
            "1       94490\n",
            "2      106490\n",
            "3      174900\n",
            "4      121490\n",
            "        ...  \n",
            "296    100000\n",
            "297     81000\n",
            "298     85000\n",
            "299     65550\n",
            "300     95500\n",
            "Name: Price, Length: 301, dtype: int64\n"
          ]
        }
      ]
    },
    {
      "cell_type": "code",
      "source": [
        "X_train, X_test, Y_train, Y_test = train_test_split(X, Y, test_size = 0.2, random_state=2)"
      ],
      "metadata": {
        "id": "bP94tLPXcCmg"
      },
      "execution_count": 10,
      "outputs": []
    },
    {
      "cell_type": "code",
      "source": [
        "X_train.shape,Y_train.shape,X_test.shape,Y_test.shape"
      ],
      "metadata": {
        "colab": {
          "base_uri": "https://localhost:8080/"
        },
        "id": "glGEXaiykUwD",
        "outputId": "c8518097-547b-465e-9705-7c7fb90c8044"
      },
      "execution_count": 11,
      "outputs": [
        {
          "output_type": "execute_result",
          "data": {
            "text/plain": [
              "((240, 6), (240,), (61, 6), (61,))"
            ]
          },
          "metadata": {},
          "execution_count": 11
        }
      ]
    },
    {
      "cell_type": "markdown",
      "source": [
        "# **Linear Regression**"
      ],
      "metadata": {
        "id": "me00ggso3_OV"
      }
    },
    {
      "cell_type": "code",
      "source": [
        "lin_reg_model = LinearRegression()"
      ],
      "metadata": {
        "id": "clgiP3zhcNmg"
      },
      "execution_count": 12,
      "outputs": []
    },
    {
      "cell_type": "code",
      "source": [
        "lin_reg_model.fit(X_train,Y_train)"
      ],
      "metadata": {
        "colab": {
          "base_uri": "https://localhost:8080/"
        },
        "id": "yeGndKIHcW-9",
        "outputId": "103f1c77-0c59-473e-c06b-4aa9083ba68e"
      },
      "execution_count": 13,
      "outputs": [
        {
          "output_type": "execute_result",
          "data": {
            "text/plain": [
              "LinearRegression()"
            ]
          },
          "metadata": {},
          "execution_count": 13
        }
      ]
    },
    {
      "cell_type": "code",
      "source": [
        "training_data_prediction = lin_reg_model.predict(X_train)"
      ],
      "metadata": {
        "id": "CFWKeUpBmqfB"
      },
      "execution_count": 14,
      "outputs": []
    },
    {
      "cell_type": "code",
      "source": [
        "RSME_score = np.sqrt(metrics.mean_squared_error(Y_train, training_data_prediction))\n",
        "print('RMSE: ', RSME_score)\n",
        "\n",
        "MAE_score = np.sqrt(metrics.mean_absolute_error(Y_train, training_data_prediction))\n",
        "print('Mean Absolute Error: ', MAE_score)\n",
        "\n",
        "\n",
        "MSE_score = metrics.mean_squared_error(Y_train, training_data_prediction)\n",
        "print('Mean Squared Error: ', MSE_score)\n",
        "\n",
        "\n",
        "R2_score = metrics.r2_score(Y_train, training_data_prediction)\n",
        "print('R2 score: ', R2_score)"
      ],
      "metadata": {
        "colab": {
          "base_uri": "https://localhost:8080/"
        },
        "id": "8yD7W3yPmxGm",
        "outputId": "54fbbc6e-a675-4d2a-be9c-855195887fd3"
      },
      "execution_count": 15,
      "outputs": [
        {
          "output_type": "stream",
          "name": "stdout",
          "text": [
            "RMSE:  100656.98082272237\n",
            "Mean Absolute Error:  264.43707874283916\n",
            "Mean Squared Error:  10131827788.345898\n",
            "R2 score:  0.8946173629602691\n"
          ]
        }
      ]
    },
    {
      "cell_type": "code",
      "source": [
        "plt.scatter(Y_train, training_data_prediction)\n",
        "plt.xlabel(\"Actual Price\")\n",
        "plt.ylabel(\"Predicted Price\")\n",
        "plt.title(\" Actual Prices vs Predicted Prices\")\n",
        "plt.show()"
      ],
      "metadata": {
        "colab": {
          "base_uri": "https://localhost:8080/",
          "height": 295
        },
        "id": "0h-zsdTpm1wD",
        "outputId": "8eb84096-687a-45aa-86ff-53dadfa5f6cb"
      },
      "execution_count": 16,
      "outputs": [
        {
          "output_type": "display_data",
          "data": {
            "image/png": "[encoded data removed]",
            "text/plain": [
              "<Figure size 432x288 with 1 Axes>"
            ]
          },
          "metadata": {
            "needs_background": "light"
          }
        }
      ]
    },
    {
      "cell_type": "code",
      "source": [
        "test_data_prediction = lin_reg_model.predict(X_test)"
      ],
      "metadata": {
        "id": "DkoaKt6Mn7ll"
      },
      "execution_count": 17,
      "outputs": []
    },
    {
      "cell_type": "code",
      "source": [
        "RSME_score = np.sqrt(metrics.mean_squared_error(Y_test, test_data_prediction))\n",
        "print('RMSE: ', RSME_score)\n",
        "\n",
        "MAE_score = np.sqrt(metrics.mean_absolute_error(Y_test, test_data_prediction))\n",
        "print('Mean Absolute Error: ', MAE_score)\n",
        "\n",
        "\n",
        "MSE_score = metrics.mean_squared_error(Y_test, test_data_prediction)\n",
        "print('Mean Squared Error: ', MSE_score)\n",
        "\n",
        "\n",
        "R2_score = metrics.r2_score(Y_test, test_data_prediction)\n",
        "print('R2 score: ', R2_score)"
      ],
      "metadata": {
        "colab": {
          "base_uri": "https://localhost:8080/"
        },
        "id": "qvnLnuZhn_dP",
        "outputId": "e87575ad-fb35-42bb-ed24-d94cfce8d82e"
      },
      "execution_count": 18,
      "outputs": [
        {
          "output_type": "stream",
          "name": "stdout",
          "text": [
            "RMSE:  380400.3968963863\n",
            "Mean Absolute Error:  332.69266298348674\n",
            "Mean Squared Error:  144704461958.92822\n",
            "R2 score:  0.657313039601016\n"
          ]
        }
      ]
    },
    {
      "cell_type": "code",
      "source": [
        "plt.scatter(Y_test, test_data_prediction)\n",
        "plt.xlabel(\"Actual Price\")\n",
        "plt.ylabel(\"Predicted Price\")\n",
        "plt.title(\" Actual Prices vs Predicted Prices\")\n",
        "plt.show()"
      ],
      "metadata": {
        "id": "_Mq0EJARoKgs",
        "colab": {
          "base_uri": "https://localhost:8080/",
          "height": 295
        },
        "outputId": "3e936cb9-676a-4a79-ddc5-ae1e53995752"
      },
      "execution_count": 19,
      "outputs": [
        {
          "output_type": "display_data",
          "data": {
            "image/png": "[encoded data removed]",
            "text/plain": [
              "<Figure size 432x288 with 1 Axes>"
            ]
          },
          "metadata": {
            "needs_background": "light"
          }
        }
      ]
    },
    {
      "cell_type": "markdown",
      "source": [
        "# **Lasso Regression**"
      ],
      "metadata": {
        "id": "CF0mx0ENlANh"
      }
    },
    {
      "cell_type": "code",
      "source": [
        "lass_reg_model = Lasso()"
      ],
      "metadata": {
        "id": "H9_9Kyebk5ry"
      },
      "execution_count": 20,
      "outputs": []
    },
    {
      "cell_type": "code",
      "source": [
        "lass_reg_model.fit(X_train,Y_train)"
      ],
      "metadata": {
        "colab": {
          "base_uri": "https://localhost:8080/"
        },
        "id": "oAApPPXulXwV",
        "outputId": "93586926-a978-4766-b370-e2b6b8f1331b"
      },
      "execution_count": 21,
      "outputs": [
        {
          "output_type": "execute_result",
          "data": {
            "text/plain": [
              "Lasso()"
            ]
          },
          "metadata": {},
          "execution_count": 21
        }
      ]
    },
    {
      "cell_type": "code",
      "source": [
        "training_data_prediction = lass_reg_model.predict(X_train)"
      ],
      "metadata": {
        "id": "kwQ7AG7clbVR"
      },
      "execution_count": 22,
      "outputs": []
    },
    {
      "cell_type": "code",
      "source": [
        "RSME_score = np.sqrt(metrics.mean_squared_error(Y_train, training_data_prediction))\n",
        "print('RMSE: ', RSME_score)\n",
        "\n",
        "MAE_score = np.sqrt(metrics.mean_absolute_error(Y_train, training_data_prediction))\n",
        "print('Mean Absolute Error: ', MAE_score)\n",
        "\n",
        "\n",
        "MSE_score = metrics.mean_squared_error(Y_train, training_data_prediction)\n",
        "print('Mean Squared Error: ', MSE_score)\n",
        "\n",
        "\n",
        "R2_score = metrics.r2_score(Y_train, training_data_prediction)\n",
        "print('R2 score: ', R2_score)"
      ],
      "metadata": {
        "colab": {
          "base_uri": "https://localhost:8080/"
        },
        "id": "oWHCXHiplzV9",
        "outputId": "a507a54a-367f-48b2-ac09-b2bd369c79b3"
      },
      "execution_count": 23,
      "outputs": [
        {
          "output_type": "stream",
          "name": "stdout",
          "text": [
            "RMSE:  100656.98082961793\n",
            "Mean Absolute Error:  264.43692571955637\n",
            "Mean Squared Error:  10131827789.73407\n",
            "R2 score:  0.8946173629458305\n"
          ]
        }
      ]
    },
    {
      "cell_type": "code",
      "source": [
        "plt.scatter(Y_train, training_data_prediction)\n",
        "plt.xlabel(\"Actual Price\")\n",
        "plt.ylabel(\"Predicted Price\")\n",
        "plt.title(\" Actual Prices vs Predicted Prices\")\n",
        "plt.show()"
      ],
      "metadata": {
        "id": "-4WZ2VLHl_Db",
        "colab": {
          "base_uri": "https://localhost:8080/",
          "height": 295
        },
        "outputId": "70a95c0c-29f2-4b82-d6c3-968419a76f2e"
      },
      "execution_count": 24,
      "outputs": [
        {
          "output_type": "display_data",
          "data": {
            "image/png": "[encoded data removed]",
            "text/plain": [
              "<Figure size 432x288 with 1 Axes>"
            ]
          },
          "metadata": {
            "needs_background": "light"
          }
        }
      ]
    },
    {
      "cell_type": "code",
      "source": [
        "test_data_prediction = lass_reg_model.predict(X_test)"
      ],
      "metadata": {
        "id": "sJ4fm5lmmUUS"
      },
      "execution_count": 25,
      "outputs": []
    },
    {
      "cell_type": "code",
      "source": [
        "RSME_score = np.sqrt(metrics.mean_squared_error(Y_test, test_data_prediction))\n",
        "print('RMSE: ', RSME_score)\n",
        "\n",
        "MAE_score = np.sqrt(metrics.mean_absolute_error(Y_test, test_data_prediction))\n",
        "print('Mean Absolute Error: ', MAE_score)\n",
        "\n",
        "\n",
        "MSE_score = metrics.mean_squared_error(Y_test, test_data_prediction)\n",
        "print('Mean Squared Error: ', MSE_score)\n",
        "\n",
        "\n",
        "R2_score = metrics.r2_score(Y_test, test_data_prediction)\n",
        "print('R2 score: ', R2_score)"
      ],
      "metadata": {
        "colab": {
          "base_uri": "https://localhost:8080/"
        },
        "id": "a-upyuCBmX-T",
        "outputId": "72e60b0b-5100-4073-9e61-a26f63d9130a"
      },
      "execution_count": 26,
      "outputs": [
        {
          "output_type": "stream",
          "name": "stdout",
          "text": [
            "RMSE:  380400.4649061858\n",
            "Mean Absolute Error:  332.6928888554765\n",
            "Mean Squared Error:  144704513700.8423\n",
            "R2 score:  0.6573129170665826\n"
          ]
        }
      ]
    },
    {
      "cell_type": "code",
      "source": [
        "plt.scatter(Y_test, test_data_prediction)\n",
        "plt.xlabel(\"Actual Price\")\n",
        "plt.ylabel(\"Predicted Price\")\n",
        "plt.title(\" Actual Prices vs Predicted Prices\")\n",
        "plt.show()"
      ],
      "metadata": {
        "id": "Kvmn7YRJmaY8",
        "colab": {
          "base_uri": "https://localhost:8080/",
          "height": 295
        },
        "outputId": "f5838efc-015a-4fdd-e012-0227f5994915"
      },
      "execution_count": 27,
      "outputs": [
        {
          "output_type": "display_data",
          "data": {
            "image/png": "[encoded data removed]",
            "text/plain": [
              "<Figure size 432x288 with 1 Axes>"
            ]
          },
          "metadata": {
            "needs_background": "light"
          }
        }
      ]
    },
    {
      "cell_type": "markdown",
      "source": [
        "# **Extreme Gradient Boosting**"
      ],
      "metadata": {
        "id": "Kymh9cN9s_1i"
      }
    },
    {
      "cell_type": "code",
      "source": [
        "model = XGBRegressor()"
      ],
      "metadata": {
        "id": "W0gVJr_9s--4"
      },
      "execution_count": 28,
      "outputs": []
    },
    {
      "cell_type": "code",
      "source": [
        "model.fit(X_train, Y_train)"
      ],
      "metadata": {
        "colab": {
          "base_uri": "https://localhost:8080/"
        },
        "id": "MzaSd3B_tNn3",
        "outputId": "f69fa357-274a-48f8-d44f-abf66a788cc4"
      },
      "execution_count": 29,
      "outputs": [
        {
          "output_type": "stream",
          "name": "stdout",
          "text": [
            "[12:12:03] WARNING: /workspace/src/objective/regression_obj.cu:152: reg:linear is now deprecated in favor of reg:squarederror.\n"
          ]
        },
        {
          "output_type": "execute_result",
          "data": {
            "text/plain": [
              "XGBRegressor()"
            ]
          },
          "metadata": {},
          "execution_count": 29
        }
      ]
    },
    {
      "cell_type": "code",
      "source": [
        "training_data_prediction = model.predict(X_train)"
      ],
      "metadata": {
        "id": "NCR5zTgTtSyv"
      },
      "execution_count": 30,
      "outputs": []
    },
    {
      "cell_type": "code",
      "source": [
        "RSME_score = np.sqrt(metrics.mean_squared_error(Y_train, training_data_prediction))\n",
        "print('RMSE: ', RSME_score)\n",
        "\n",
        "MAE_score = np.sqrt(metrics.mean_absolute_error(Y_train, training_data_prediction))\n",
        "print('Mean Absolute Error: ', MAE_score)\n",
        "\n",
        "\n",
        "MSE_score = metrics.mean_squared_error(Y_train, training_data_prediction)\n",
        "print('Mean Squared Error: ', MSE_score)\n",
        "\n",
        "\n",
        "R2_score = metrics.r2_score(Y_train, training_data_prediction)\n",
        "print('R2 score: ', R2_score)"
      ],
      "metadata": {
        "colab": {
          "base_uri": "https://localhost:8080/"
        },
        "id": "ancTxRM-tYwQ",
        "outputId": "df6279cc-d250-4ac3-f662-2cc57bf4cda0"
      },
      "execution_count": 31,
      "outputs": [
        {
          "output_type": "stream",
          "name": "stdout",
          "text": [
            "RMSE:  31832.68852268123\n",
            "Mean Absolute Error:  148.02312666825355\n",
            "Mean Squared Error:  1013320058.5820414\n",
            "R2 score:  0.9894603084291009\n"
          ]
        }
      ]
    },
    {
      "cell_type": "code",
      "source": [
        "plt.scatter(Y_train, training_data_prediction)\n",
        "plt.xlabel(\"Actual Prices\")\n",
        "plt.ylabel(\"Predicted Prices\")\n",
        "plt.title(\"Actual Price vs Preicted Price\")\n",
        "plt.show()"
      ],
      "metadata": {
        "id": "iBpWNW0gtoyX",
        "colab": {
          "base_uri": "https://localhost:8080/",
          "height": 295
        },
        "outputId": "307256ee-eb15-49db-a817-0a8fbab9a6b3"
      },
      "execution_count": 32,
      "outputs": [
        {
          "output_type": "display_data",
          "data": {
            "image/png": "[encoded data removed]",
            "text/plain": [
              "<Figure size 432x288 with 1 Axes>"
            ]
          },
          "metadata": {
            "needs_background": "light"
          }
        }
      ]
    },
    {
      "cell_type": "code",
      "source": [
        "test_data_prediction = model.predict(X_test)"
      ],
      "metadata": {
        "id": "FAoOa-0xty-_"
      },
      "execution_count": 33,
      "outputs": []
    },
    {
      "cell_type": "code",
      "source": [
        "RSME_score = np.sqrt(metrics.mean_squared_error(Y_test, test_data_prediction))\n",
        "print('RMSE: ', RSME_score)\n",
        "\n",
        "MAE_score = np.sqrt(metrics.mean_absolute_error(Y_test, test_data_prediction))\n",
        "print('Mean Absolute Error: ', MAE_score)\n",
        "\n",
        "\n",
        "MSE_score = metrics.mean_squared_error(Y_test, test_data_prediction)\n",
        "print('Mean Squared Error: ', MSE_score)\n",
        "\n",
        "\n",
        "R2_score = metrics.r2_score(Y_test, test_data_prediction)\n",
        "print('R2 score: ', R2_score)"
      ],
      "metadata": {
        "colab": {
          "base_uri": "https://localhost:8080/"
        },
        "id": "dyiWOSHat2xB",
        "outputId": "f96c7be7-82a7-4b99-acf1-475a537d8273"
      },
      "execution_count": 34,
      "outputs": [
        {
          "output_type": "stream",
          "name": "stdout",
          "text": [
            "RMSE:  363935.2953444379\n",
            "Mean Absolute Error:  296.5083242462782\n",
            "Mean Squared Error:  132448899197.44324\n",
            "R2 score:  0.686336481545082\n"
          ]
        }
      ]
    },
    {
      "cell_type": "code",
      "source": [
        "plt.scatter(Y_test, test_data_prediction)\n",
        "plt.xlabel(\"Actual Prices\")\n",
        "plt.ylabel(\"Predicted Prices\")\n",
        "plt.title(\"Actual Price vs Preicted Price\")\n",
        "plt.show()"
      ],
      "metadata": {
        "id": "NBtW8EVduA_-",
        "colab": {
          "base_uri": "https://localhost:8080/",
          "height": 295
        },
        "outputId": "6f4b7d13-c6b9-4ed5-8119-e588e4285822"
      },
      "execution_count": 35,
      "outputs": [
        {
          "output_type": "display_data",
          "data": {
            "image/png": "[encoded data removed]",
            "text/plain": [
              "<Figure size 432x288 with 1 Axes>"
            ]
          },
          "metadata": {
            "needs_background": "light"
          }
        }
      ]
    },
    {
      "cell_type": "markdown",
      "source": [
        "# **Support Vector Machine**"
      ],
      "metadata": {
        "id": "dDdXtZWJobUr"
      }
    },
    {
      "cell_type": "code",
      "source": [
        "svr_lin = SVR(kernel='linear')\n",
        "svr_lin.fit(X_train, Y_train)\n",
        "training_data_prediction = svr_lin.predict(X_train)"
      ],
      "metadata": {
        "id": "RFh3r8abuOiY"
      },
      "execution_count": 36,
      "outputs": []
    },
    {
      "cell_type": "code",
      "source": [
        "RSME_score = np.sqrt(metrics.mean_squared_error(Y_train, training_data_prediction))\n",
        "print('RMSE: ', RSME_score)\n",
        "\n",
        "MAE_score = np.sqrt(metrics.mean_absolute_error(Y_train, training_data_prediction))\n",
        "print('Mean Absolute Error: ', MAE_score)\n",
        "\n",
        "\n",
        "MSE_score = metrics.mean_squared_error(Y_train, training_data_prediction)\n",
        "print('Mean Squared Error: ', MSE_score)\n",
        "\n",
        "\n",
        "R2_score = metrics.r2_score(Y_train, training_data_prediction)\n",
        "print('R2 score: ', R2_score)"
      ],
      "metadata": {
        "colab": {
          "base_uri": "https://localhost:8080/"
        },
        "id": "g8loGVejpgLI",
        "outputId": "48a1db94-4bf4-474e-d745-6c09452f81d4"
      },
      "execution_count": 37,
      "outputs": [
        {
          "output_type": "stream",
          "name": "stdout",
          "text": [
            "RMSE:  125150.9803944181\n",
            "Mean Absolute Error:  247.3281791104351\n",
            "Mean Squared Error:  15662767893.684025\n",
            "R2 score:  0.8370892381455364\n"
          ]
        }
      ]
    },
    {
      "cell_type": "code",
      "source": [
        "plt.scatter(Y_train, training_data_prediction)\n",
        "plt.xlabel(\"Actual Prices\")\n",
        "plt.ylabel(\"Predicted Prices\")\n",
        "plt.title(\"Actual Price vs Preicted Price\")\n",
        "plt.show()"
      ],
      "metadata": {
        "id": "FrjtylTEqIi8",
        "colab": {
          "base_uri": "https://localhost:8080/",
          "height": 295
        },
        "outputId": "31318cf9-fe5e-4d56-8324-716d5e66492e"
      },
      "execution_count": 38,
      "outputs": [
        {
          "output_type": "display_data",
          "data": {
            "image/png": "[encoded data removed]",
            "text/plain": [
              "<Figure size 432x288 with 1 Axes>"
            ]
          },
          "metadata": {
            "needs_background": "light"
          }
        }
      ]
    },
    {
      "cell_type": "code",
      "source": [
        "test_data_prediction = model.predict(X_test)"
      ],
      "metadata": {
        "id": "AnfawMPe6yn4"
      },
      "execution_count": 39,
      "outputs": []
    },
    {
      "cell_type": "code",
      "source": [
        "RSME_score = np.sqrt(metrics.mean_squared_error(Y_test, test_data_prediction))\n",
        "print('RMSE: ', RSME_score)\n",
        "\n",
        "MAE_score = np.sqrt(metrics.mean_absolute_error(Y_test, test_data_prediction))\n",
        "print('Mean Absolute Error: ', MAE_score)\n",
        "\n",
        "\n",
        "MSE_score = metrics.mean_squared_error(Y_test, test_data_prediction)\n",
        "print('Mean Squared Error: ', MSE_score)\n",
        "\n",
        "\n",
        "R2_score = metrics.r2_score(Y_test, test_data_prediction)\n",
        "print('R2 score: ', R2_score)"
      ],
      "metadata": {
        "colab": {
          "base_uri": "https://localhost:8080/"
        },
        "id": "-iZNERBo6zgQ",
        "outputId": "d31ccfca-998f-4e23-96b7-e2b2ca6d4baa"
      },
      "execution_count": 40,
      "outputs": [
        {
          "output_type": "stream",
          "name": "stdout",
          "text": [
            "RMSE:  363935.2953444379\n",
            "Mean Absolute Error:  296.5083242462782\n",
            "Mean Squared Error:  132448899197.44324\n",
            "R2 score:  0.686336481545082\n"
          ]
        }
      ]
    },
    {
      "cell_type": "markdown",
      "source": [
        "# **Bayesian regression**"
      ],
      "metadata": {
        "id": "Y3BDk17zsQQq"
      }
    },
    {
      "cell_type": "code",
      "source": [
        "bay = linear_model.BayesianRidge()\n",
        "bay.fit(X_train, Y_train)\n",
        "training_data_prediction = bay.predict(X_train)"
      ],
      "metadata": {
        "id": "myT_cGpcsTMO"
      },
      "execution_count": 41,
      "outputs": []
    },
    {
      "cell_type": "code",
      "source": [
        "RSME_score = np.sqrt(metrics.mean_squared_error(Y_train, training_data_prediction))\n",
        "print('RMSE: ', RSME_score)\n",
        "\n",
        "MAE_score = np.sqrt(metrics.mean_absolute_error(Y_train, training_data_prediction))\n",
        "print('Mean Absolute Error: ', MAE_score)\n",
        "\n",
        "\n",
        "MSE_score = metrics.mean_squared_error(Y_train, training_data_prediction)\n",
        "print('Mean Squared Error: ', MSE_score)\n",
        "\n",
        "\n",
        "R2_score = metrics.r2_score(Y_train, training_data_prediction)\n",
        "print('R2 score: ', R2_score)"
      ],
      "metadata": {
        "colab": {
          "base_uri": "https://localhost:8080/"
        },
        "id": "x_RUsBVssev-",
        "outputId": "a7edb29f-8562-4cee-ba36-9a3fd69259eb"
      },
      "execution_count": 42,
      "outputs": [
        {
          "output_type": "stream",
          "name": "stdout",
          "text": [
            "RMSE:  100809.37343417115\n",
            "Mean Absolute Error:  263.3391259157407\n",
            "Mean Squared Error:  10162529772.190174\n",
            "R2 score:  0.894298027092403\n"
          ]
        }
      ]
    },
    {
      "cell_type": "code",
      "source": [
        "test_data_prediction = model.predict(X_test)"
      ],
      "metadata": {
        "id": "uDTSkcD96-e6"
      },
      "execution_count": 43,
      "outputs": []
    },
    {
      "cell_type": "code",
      "source": [
        "RSME_score = np.sqrt(metrics.mean_squared_error(Y_test, test_data_prediction))\n",
        "print('RMSE: ', RSME_score)\n",
        "\n",
        "MAE_score = np.sqrt(metrics.mean_absolute_error(Y_test, test_data_prediction))\n",
        "print('Mean Absolute Error: ', MAE_score)\n",
        "\n",
        "\n",
        "MSE_score = metrics.mean_squared_error(Y_test, test_data_prediction)\n",
        "print('Mean Squared Error: ', MSE_score)\n",
        "\n",
        "\n",
        "R2_score = metrics.r2_score(Y_test, test_data_prediction)\n",
        "print('R2 score: ', R2_score)"
      ],
      "metadata": {
        "colab": {
          "base_uri": "https://localhost:8080/"
        },
        "id": "a2Nz1dcH7BPQ",
        "outputId": "d7d17cc7-fa40-4250-a078-df0dc2da896d"
      },
      "execution_count": 44,
      "outputs": [
        {
          "output_type": "stream",
          "name": "stdout",
          "text": [
            "RMSE:  363935.2953444379\n",
            "Mean Absolute Error:  296.5083242462782\n",
            "Mean Squared Error:  132448899197.44324\n",
            "R2 score:  0.686336481545082\n"
          ]
        }
      ]
    },
    {
      "cell_type": "markdown",
      "source": [
        "# **Ada Boost**"
      ],
      "metadata": {
        "id": "HXbYHaJP2aae"
      }
    },
    {
      "cell_type": "code",
      "source": [
        "from sklearn.ensemble import AdaBoostRegressor\n",
        "\n",
        "Ada_Boost = AdaBoostRegressor()\n",
        "Ada_Boost.fit(X_train, Y_train)\n",
        "training_data_prediction = Ada_Boost.predict(X_train)"
      ],
      "metadata": {
        "id": "Qx3NOggE2aGz"
      },
      "execution_count": 45,
      "outputs": []
    },
    {
      "cell_type": "code",
      "source": [
        "RSME_score = np.sqrt(metrics.mean_squared_error(Y_train, training_data_prediction))\n",
        "print('RMSE: ', RSME_score)\n",
        "\n",
        "MAE_score = np.sqrt(metrics.mean_absolute_error(Y_train, training_data_prediction))\n",
        "print('Mean Absolute Error: ', MAE_score)\n",
        "\n",
        "\n",
        "MSE_score = metrics.mean_squared_error(Y_train, training_data_prediction)\n",
        "print('Mean Squared Error: ', MSE_score)\n",
        "\n",
        "\n",
        "R2_score = metrics.r2_score(Y_train, training_data_prediction)\n",
        "print('R2 score: ', R2_score)"
      ],
      "metadata": {
        "colab": {
          "base_uri": "https://localhost:8080/"
        },
        "id": "cHJhKOqR2wts",
        "outputId": "00502dde-bd61-46da-dc5e-c75f809be735"
      },
      "execution_count": 46,
      "outputs": [
        {
          "output_type": "stream",
          "name": "stdout",
          "text": [
            "RMSE:  64325.91936875387\n",
            "Mean Absolute Error:  236.71580282903918\n",
            "Mean Squared Error:  4137823902.635424\n",
            "R2 score:  0.9569618825373915\n"
          ]
        }
      ]
    },
    {
      "cell_type": "code",
      "source": [
        "test_data_prediction = lin_reg_model.predict(X_test)"
      ],
      "metadata": {
        "id": "0FsR4RG53IVo"
      },
      "execution_count": 47,
      "outputs": []
    },
    {
      "cell_type": "code",
      "source": [
        "RSME_score = np.sqrt(metrics.mean_squared_error(Y_test, test_data_prediction))\n",
        "print('RMSE: ', RSME_score)\n",
        "\n",
        "MAE_score = np.sqrt(metrics.mean_absolute_error(Y_test, test_data_prediction))\n",
        "print('Mean Absolute Error: ', MAE_score)\n",
        "\n",
        "\n",
        "MSE_score = metrics.mean_squared_error(Y_test, test_data_prediction)\n",
        "print('Mean Squared Error: ', MSE_score)\n",
        "\n",
        "\n",
        "R2_score = metrics.r2_score(Y_test, test_data_prediction)\n",
        "print('R2 score: ', R2_score)"
      ],
      "metadata": {
        "colab": {
          "base_uri": "https://localhost:8080/"
        },
        "id": "aSBkscOS3NvT",
        "outputId": "10dc1dc0-df4f-4235-a507-f91dab48605b"
      },
      "execution_count": 48,
      "outputs": [
        {
          "output_type": "stream",
          "name": "stdout",
          "text": [
            "RMSE:  380400.3968963863\n",
            "Mean Absolute Error:  332.69266298348674\n",
            "Mean Squared Error:  144704461958.92822\n",
            "R2 score:  0.657313039601016\n"
          ]
        }
      ]
    }
  ]
}